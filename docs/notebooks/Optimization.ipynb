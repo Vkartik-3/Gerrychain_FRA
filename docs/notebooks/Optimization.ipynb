{
 "cells": [
  {
   "cell_type": "code",
   "execution_count": 11,
   "metadata": {},
   "outputs": [],
   "source": [
    "from gerrychain import (GeographicPartition, Partition, Graph, MarkovChain,\n",
    "                        proposals, updaters, constraints, accept, Election)\n",
    "# from gerrychain.proposals import ReCom\n",
    "from gerrychain.optimization import SingleMetricOptimizer, Gingleator\n",
    "from gerrychain.tree import recursive_seed_part\n",
    "# from gerrychain.updaters import Tally\n",
    "from functools import partial\n",
    "import pandas as pd\n",
    "import json\n",
    "import requests\n",
    "from networkx.readwrite import json_graph\n",
    "import matplotlib.pyplot as plt\n",
    "from tqdm import tqdm\n",
    "import numpy as np"
   ]
  },
  {
   "cell_type": "code",
   "execution_count": 2,
   "metadata": {},
   "outputs": [],
   "source": [
    "response = json.loads(requests.get(\"https://people.csail.mit.edu/ddeford/BG/BG_05.json\").text)\n",
    "graph = Graph(json_graph.adjacency_graph(response))"
   ]
  },
  {
   "cell_type": "code",
   "execution_count": 3,
   "metadata": {},
   "outputs": [],
   "source": [
    "POPCOL = \"TOTPOP\"\n",
    "SEN_DISTS = 35\n",
    "EPS = 0.02\n",
    "TOTPOP = sum(graph.nodes()[n][POPCOL] for n in graph.nodes())"
   ]
  },
  {
   "cell_type": "code",
   "execution_count": 4,
   "metadata": {},
   "outputs": [],
   "source": [
    "sddict = recursive_seed_part(graph, range(SEN_DISTS), TOTPOP/SEN_DISTS, POPCOL, EPS)"
   ]
  },
  {
   "cell_type": "code",
   "execution_count": 5,
   "metadata": {},
   "outputs": [],
   "source": [
    "chain_updaters = {\n",
    "                    \"population\": updaters.Tally(POPCOL, alias=\"population\"),\n",
    "                    \"VAP\": updaters.Tally(\"VAP\"),\n",
    "                    \"BVAP\": updaters.Tally(\"BVAP\")\n",
    "                 }\n",
    "part = Partition(graph, sddict, chain_updaters)"
   ]
  },
  {
   "cell_type": "code",
   "execution_count": 6,
   "metadata": {},
   "outputs": [],
   "source": [
    "proposal = partial(proposals.recom,\n",
    "                    pop_col=POPCOL,\n",
    "                    pop_target=TOTPOP/SEN_DISTS,\n",
    "                    epsilon=EPS,\n",
    "                    node_repeats=1)\n",
    "cons = constraints.within_percent_of_ideal_population(part,EPS)"
   ]
  },
  {
   "cell_type": "code",
   "execution_count": 7,
   "metadata": {},
   "outputs": [],
   "source": [
    "gingles = Gingleator(proposal, cons, part, \n",
    "                     minority_pop_col=\"BVAP\", total_pop_col=\"VAP\",\n",
    "                     score_function=Gingleator.reward_partial_dist)"
   ]
  },
  {
   "cell_type": "code",
   "execution_count": 8,
   "metadata": {},
   "outputs": [
    {
     "data": {
      "text/plain": [
       "0.4793650793650794"
      ]
     },
     "execution_count": 8,
     "metadata": {},
     "output_type": "execute_result"
    }
   ],
   "source": [
    "gingles.score(part)"
   ]
  },
  {
   "cell_type": "code",
   "execution_count": 17,
   "metadata": {},
   "outputs": [
    {
     "name": "stderr",
     "output_type": "stream",
     "text": [
      "100%|██████████| 1000/1000 [00:51<00:00, 19.60it/s]\n"
     ]
    }
   ],
   "source": [
    "max_scores = np.zeros(10*100)\n",
    "for i, part in enumerate(gingles.short_bursts(10, 100, with_progress_bar=True)):\n",
    "    max_scores[i] = gingles.best_score"
   ]
  },
  {
   "cell_type": "code",
   "execution_count": 20,
   "metadata": {},
   "outputs": [
    {
     "data": {
      "image/png": "[encoded data removed]",
      "text/plain": [
       "<Figure size 432x288 with 1 Axes>"
      ]
     },
     "metadata": {
      "needs_background": "light"
     },
     "output_type": "display_data"
    }
   ],
   "source": [
    "plt.plot(max_scores)\n",
    "plt.show()"
   ]
  }
 ],
 "metadata": {
  "interpreter": {
   "hash": "de0b2e8f3822c864e297dc34a9420a5549c338b59d7a373e92a79db0315964f9"
  },
  "kernelspec": {
   "display_name": "Python 3.9.7 ('gerrydev')",
   "language": "python",
   "name": "python3"
  },
  "language_info": {
   "codemirror_mode": {
    "name": "ipython",
    "version": 3
   },
   "file_extension": ".py",
   "mimetype": "text/x-python",
   "name": "python",
   "nbconvert_exporter": "python",
   "pygments_lexer": "ipython3",
   "version": "3.9.7"
  },
  "orig_nbformat": 4
 },
 "nbformat": 4,
 "nbformat_minor": 2
}
